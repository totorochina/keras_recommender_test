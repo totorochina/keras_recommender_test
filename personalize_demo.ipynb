{
 "cells": [
  {
   "cell_type": "markdown",
   "metadata": {},
   "source": [
    "一、\n",
    "下载movielen-latest\n",
    "\n",
    "二、\n",
    "根据movielen的数据内容以及Personalize导入数据的格式要求，编写Avro Json作为数据的Schema。\n",
    "```json\n",
    "{\"type\": \"record\", \n",
    "\"name\": \"Interactions\", \n",
    "\"namespace\": \"com.amazonaws.personalize.schema\",\n",
    "\"fields\":[\n",
    "    {\"name\": \"ITEM_ID\", \"type\": \"string\"},\n",
    "    {\"name\": \"USER_ID\", \"type\": \"string\"},\n",
    "    {\"name\": \"TIMESTAMP\", \"type\": \"long\"}\n",
    "],\n",
    "\"version\": \"1.0\"}\n",
    "```\n",
    "将Schema的Json导入到Personalize\n",
    "\n",
    "三、\n",
    "简单处理，认为rating>=4为用户感兴趣的标志，因此仅将rating>=4的数据用于训练。\n",
    "由于用全量数据会导致训练时间过久，因此demo中只取其中10w条记录。\n",
    "\n",
    "```python\n",
    "import pandas, boto3 \n",
    "from sklearn.utils import shuffle\n",
    "ratings = pandas.read_csv('ratings.csv')\n",
    "ratings = shuffle(ratings)\n",
    "ratings = ratings[ratings['rating']>=4.0]\n",
    "ratings = ratings.drop(columns='rating')\n",
    "ratings.columns = ['USER_ID','ITEM_ID','TIMESTAMP']\n",
    "ratings = ratings[:100000]\n",
    "ratings.to_csv('ratings.processed.csv',index=False)\n",
    "```\n",
    "然后将文件导入到Personalize\n",
    "\n",
    "四、\n",
    "选择AutoML的方式，将训练算法和参数交给Personalize根据上传的数据自行判断。\n",
    "\n",
    "五、\n",
    "在Personalize上在Solution的基础上创建Campaign\n",
    "\n",
    "六、\n",
    "验证Campaign API的推荐效果"
   ]
  },
  {
   "cell_type": "markdown",
   "metadata": {},
   "source": [
    "加载movielens数据，创建movie id到movie内容的映射函数。\n",
    "切换到已经能preview Personalize服务的账号上。"
   ]
  },
  {
   "cell_type": "code",
   "execution_count": 1,
   "metadata": {},
   "outputs": [],
   "source": [
    "import pandas as pd\n",
    "import boto3\n",
    "\n",
    "mov = pd.read_csv('movies.csv')\n",
    "\n",
    "def movid2title(id):\n",
    "    return mov[mov.movieId == int(id)].title.values[0]\n",
    "\n",
    "def movid2genres(id):\n",
    "    return mov[mov.movieId == int(id)].genres.values[0]\n",
    "\n",
    "# Switch to test profile to run personalize\n",
    "boto3.setup_default_session(profile_name='bbkuser')"
   ]
  },
  {
   "cell_type": "markdown",
   "metadata": {},
   "source": [
    "调接口根据用户id推荐结果"
   ]
  },
  {
   "cell_type": "code",
   "execution_count": 2,
   "metadata": {
    "scrolled": true
   },
   "outputs": [
    {
     "name": "stdout",
     "output_type": "stream",
     "text": [
      "Recommended items\n",
      "('Shawshank Redemption, The (1994)', 'Crime|Drama')\n",
      "('Forrest Gump (1994)', 'Comedy|Drama|Romance|War')\n",
      "('Pulp Fiction (1994)', 'Comedy|Crime|Drama|Thriller')\n",
      "('Silence of the Lambs, The (1991)', 'Crime|Horror|Thriller')\n",
      "('Matrix, The (1999)', 'Action|Sci-Fi|Thriller')\n",
      "('Fight Club (1999)', 'Action|Crime|Drama|Thriller')\n",
      "('Star Wars: Episode IV - A New Hope (1977)', 'Action|Adventure|Sci-Fi')\n",
      "('Godfather, The (1972)', 'Crime|Drama')\n",
      "(\"Schindler's List (1993)\", 'Drama|War')\n",
      "('Star Wars: Episode V - The Empire Strikes Back (1980)', 'Action|Adventure|Sci-Fi')\n",
      "('Usual Suspects, The (1995)', 'Crime|Mystery|Thriller')\n",
      "('Braveheart (1995)', 'Action|Drama|War')\n",
      "('Lord of the Rings: The Two Towers, The (2002)', 'Adventure|Fantasy')\n",
      "('Jurassic Park (1993)', 'Action|Adventure|Sci-Fi|Thriller')\n",
      "('American Beauty (1999)', 'Drama|Romance')\n",
      "('Dances with Wolves (1990)', 'Adventure|Drama|Western')\n",
      "('Toy Story (1995)', 'Adventure|Animation|Children|Comedy|Fantasy')\n",
      "('Apollo 13 (1995)', 'Adventure|Drama|IMAX')\n",
      "('Back to the Future (1985)', 'Adventure|Comedy|Sci-Fi')\n",
      "('Fugitive, The (1993)', 'Thriller')\n",
      "('Gladiator (2000)', 'Action|Adventure|Drama')\n",
      "('Lord of the Rings: The Fellowship of the Ring, The (2001)', 'Adventure|Fantasy')\n",
      "('Lord of the Rings: The Return of the King, The (2003)', 'Action|Adventure|Drama|Fantasy')\n",
      "('Dark Knight, The (2008)', 'Action|Crime|Drama|IMAX')\n",
      "('Star Wars: Episode VI - Return of the Jedi (1983)', 'Action|Adventure|Sci-Fi')\n"
     ]
    }
   ],
   "source": [
    "personalize = boto3.client('personalize-runtime')\n",
    "USER_ID = '333'\n",
    "\n",
    "response = personalize.get_recommendations(\n",
    "    campaignArn = \"arn:aws:personalize:us-west-2:188869792837:campaign/personalize-demo2-camp\",\n",
    "    userId = USER_ID)\n",
    "\n",
    "print(\"Recommended items\")\n",
    "for item in response['itemList']:\n",
    "    print (movid2title(item['itemId']), movid2genres(item['itemId']))"
   ]
  },
  {
   "cell_type": "markdown",
   "metadata": {},
   "source": [
    "检查Campaign中所使用的，指标最好的Solution的指标究竟是多少。\n",
    "Personalize会自动将数据拆分出训练集和测试集，用于计算指标。"
   ]
  },
  {
   "cell_type": "code",
   "execution_count": 3,
   "metadata": {},
   "outputs": [
    {
     "name": "stdout",
     "output_type": "stream",
     "text": [
      "{u'coverage': 0.0094,\n",
      " u'mean_reciprocal_rank_at_25': 0.0067,\n",
      " u'normalized_discounted_cumulative_gain_at_10': 0.0083,\n",
      " u'normalized_discounted_cumulative_gain_at_25': 0.0161,\n",
      " u'normalized_discounted_cumulative_gain_at_5': 0.0049,\n",
      " u'precision_at_10': 0.0016,\n",
      " u'precision_at_25': 0.0019,\n",
      " u'precision_at_5': 0.0013}\n"
     ]
    }
   ],
   "source": [
    "import boto3\n",
    "from pprint import pprint\n",
    "\n",
    "personalize = boto3.client('personalize')\n",
    "\n",
    "response = personalize.get_solution_metrics(\n",
    "    solutionVersionArn = \\\n",
    "    'arn:aws:personalize:us-west-2:188869792837:solution/personalize-recommender-demo2/f6fe7243'\n",
    ")\n",
    "\n",
    "pprint(response['metrics'])"
   ]
  },
  {
   "cell_type": "code",
   "execution_count": null,
   "metadata": {},
   "outputs": [],
   "source": []
  }
 ],
 "metadata": {
  "kernelspec": {
   "display_name": "Python [conda env:py2] *",
   "language": "python",
   "name": "conda-env-py2-py"
  },
  "language_info": {
   "codemirror_mode": {
    "name": "ipython",
    "version": 2
   },
   "file_extension": ".py",
   "mimetype": "text/x-python",
   "name": "python",
   "nbconvert_exporter": "python",
   "pygments_lexer": "ipython2",
   "version": "2.7.16"
  }
 },
 "nbformat": 4,
 "nbformat_minor": 2
}
